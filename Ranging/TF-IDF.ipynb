{
 "cells": [
  {
   "cell_type": "code",
   "execution_count": 112,
   "metadata": {
    "collapsed": true
   },
   "outputs": [],
   "source": [
    "import pymorphy2\n",
    "import requests\n",
    "from bs4 import BeautifulSoup\n",
    "import re\n",
    "from stop_words import get_stop_words\n",
    "\n",
    "import numpy as np\n",
    "from operator import itemgetter"
   ]
  },
  {
   "cell_type": "markdown",
   "metadata": {
    "collapsed": true
   },
   "source": [
    "### Скачивание страниц и нормализация предложений"
   ]
  },
  {
   "cell_type": "code",
   "execution_count": 51,
   "metadata": {
    "collapsed": true
   },
   "outputs": [],
   "source": [
    "class NormalAnalyzer:\n",
    "    __stemmer = pymorphy2.MorphAnalyzer()\n",
    "    __cache = {}\n",
    "    \n",
    "    def norm(self, token):\n",
    "        token = token.strip()\n",
    "        \n",
    "        norm = ''\n",
    "        if token not in self.__cache:\n",
    "    \n",
    "            res = self.__stemmer.parse(token)\n",
    "            norm = res[0].normal_form\n",
    "            self.__cache[token] = norm\n",
    "        else:\n",
    "            norm = self.__cache[token]\n",
    "        return norm"
   ]
  },
  {
   "cell_type": "code",
   "execution_count": 193,
   "metadata": {
    "collapsed": false
   },
   "outputs": [],
   "source": [
    "class TextUrl():\n",
    "    def __init__(self):\n",
    "        self.sentensesDetect = re.compile(r\"[^.!?\\s][^.!?]*(?:[.!?](?!['\\\"]?\\s|$)[^.!?]*)*[.!?]?['\\\"]?(?=\\s|$)\", re.MULTILINE |  re.DOTALL )\n",
    "        self.wordsDetect = re.compile(u\"[А-Яа-я]+\")\n",
    "        \n",
    "        self.normal_analizer = NormalAnalyzer()\n",
    "        self.stop_words = get_stop_words('ru')\n",
    "        \n",
    "    def sentenseToWords(self, sent):\n",
    "        words = self.wordsDetect.findall(sent)\n",
    "        normal_words = []\n",
    "\n",
    "        # lemmatize words\n",
    "        for word in words:\n",
    "            word = self.normal_analizer.norm(word.lower())\n",
    "            if word not in self.stop_words:\n",
    "                normal_words.append(word)\n",
    "        \n",
    "        return normal_words\n",
    "        \n",
    "    def extractText(self, url):\n",
    "        html = requests.get(url).text\n",
    "        soup = BeautifulSoup(html, 'html.parser')\n",
    "        \n",
    "        sentenses = []\n",
    "        realSentenses = []\n",
    "        for paragraph in soup.find_all('p'):\n",
    "            text = paragraph.get_text()\n",
    "            for sent in self.sentensesDetect.findall(text):\n",
    "                normal_words = self.sentenseToWords(sent)\n",
    "                \n",
    "                if len(normal_words) != 0:\n",
    "                    sentenses.append(normal_words)\n",
    "                    realSentenses.append(sent)\n",
    "        \n",
    "        return sentenses, realSentenses"
   ]
  },
  {
   "cell_type": "code",
   "execution_count": 194,
   "metadata": {
    "collapsed": false
   },
   "outputs": [],
   "source": [
    "textUrl = TextUrl()\n",
    "all_sentenses = []\n",
    "all_real_sentenses = []\n",
    "all_urls = ['https://ru.wikipedia.org/wiki/Рабье,_Бенжамен',\n",
    "            'https://ru.wikipedia.org/wiki/Весёлая_бурёнка',\n",
    "            'https://ru.wikipedia.org/wiki/Норвежский_чёрный_элкхунд',\n",
    "            'https://ru.wikipedia.org/wiki/Космические_Юра_и_Нюра',\n",
    "            'https://ru.wikipedia.org/wiki/Невесомость',\n",
    "            'https://ru.wikipedia.org/wiki/Союз_МС-04'\n",
    "           ]\n",
    "for url in all_urls:\n",
    "    sent, realSents = textUrl.extractText(url)\n",
    "    all_sentenses.extend(sent)\n",
    "    all_real_sentenses.extend(realSents)"
   ]
  },
  {
   "cell_type": "markdown",
   "metadata": {},
   "source": [
    "### Функции над векторами, представленными словарями"
   ]
  },
  {
   "cell_type": "code",
   "execution_count": 106,
   "metadata": {
    "collapsed": true
   },
   "outputs": [],
   "source": [
    "def lenVector(vec):\n",
    "    return np.linalg.norm(vec.values())"
   ]
  },
  {
   "cell_type": "code",
   "execution_count": 107,
   "metadata": {
    "collapsed": true
   },
   "outputs": [],
   "source": [
    "def normolizeVec(vec):\n",
    "    lenVec = lenVector(vec)\n",
    "    if lenVec == 0:\n",
    "        return 0\n",
    "    return dict(zip(vec.keys(), vec.values() / lenVec))"
   ]
  },
  {
   "cell_type": "code",
   "execution_count": 116,
   "metadata": {
    "collapsed": true
   },
   "outputs": [],
   "source": [
    "# Скалярное произведение двух векторов, представленных списками\n",
    "def dotVec(d1, d2):\n",
    "    intersection = set.intersection(set(d1.keys()), set(d2.keys()))\n",
    "    value = 0\n",
    "    for key in intersection:\n",
    "        value += d1[key] * d2[key]\n",
    "    return value"
   ]
  },
  {
   "cell_type": "markdown",
   "metadata": {
    "collapsed": true
   },
   "source": [
    "### Составление векторов предложений"
   ]
  },
  {
   "cell_type": "code",
   "execution_count": 117,
   "metadata": {
    "collapsed": true
   },
   "outputs": [],
   "source": [
    "# Список слов\n",
    "all_words = set()\n",
    "for sent in all_sentenses:\n",
    "    for word in sent:\n",
    "        all_words.add(word)"
   ]
  },
  {
   "cell_type": "code",
   "execution_count": 206,
   "metadata": {
    "collapsed": true
   },
   "outputs": [],
   "source": [
    "# Вектора представлены словарями (нет слова = 0)\n",
    "vectors_sent = []\n",
    "for sent in all_sentenses:\n",
    "    words = {}\n",
    "    for word in sent:\n",
    "        words[word] = words.setdefault(word, 0) + 1\n",
    "    \n",
    "    vectors_sent.append(words)   "
   ]
  },
  {
   "cell_type": "code",
   "execution_count": 208,
   "metadata": {
    "collapsed": false
   },
   "outputs": [],
   "source": [
    "# Нормализация векторов\n",
    "vectors_sent_norm = vectors_sent\n",
    "for i, vec in enumerate(vectors_sent):\n",
    "    vectors_sent_norm[i] = normolizeVec(vec)"
   ]
  },
  {
   "cell_type": "code",
   "execution_count": 120,
   "metadata": {
    "collapsed": false
   },
   "outputs": [],
   "source": [
    "# idf\n",
    "df = dict(zip(all_words, np.zeros(len(all_words))))\n",
    "for vec in vectors_sent:\n",
    "    words = vec.keys()\n",
    "    for word in words:\n",
    "        df[word] += 1\n",
    "        \n",
    "idf = dict(zip(df.keys(), np.log(float(len(all_words)) / np.array(df.values()))))"
   ]
  },
  {
   "cell_type": "markdown",
   "metadata": {},
   "source": [
    "### Вектор запроса"
   ]
  },
  {
   "cell_type": "code",
   "execution_count": 153,
   "metadata": {
    "collapsed": false
   },
   "outputs": [],
   "source": [
    "queries = [u'Французский художник добился успеха со смеющейся коровой (на илл.) и провалился с пьющими ослами.',\n",
    "           u'С собакой викингов ходят на лося.',\n",
    "           u'Герои мультфильма стали индикаторами невесомости космического корабля «Арго».'\n",
    "          ]\n",
    "\n",
    "vectors_query = []\n",
    "\n",
    "for query in queries:\n",
    "    words = {}\n",
    "    norm_words = textUrl.sentenseToWords(query)\n",
    "    for word in norm_words:\n",
    "        words[word] = words.setdefault(word, 0) + 1\n",
    "    \n",
    "    vectors_query.append(words)   "
   ]
  },
  {
   "cell_type": "markdown",
   "metadata": {},
   "source": [
    "### Векторное ранжирование"
   ]
  },
  {
   "cell_type": "code",
   "execution_count": 154,
   "metadata": {
    "collapsed": true
   },
   "outputs": [],
   "source": [
    "def vecRanging(query, sentenses):\n",
    "    rang = []\n",
    "    for sent in sentenses:\n",
    "        rang.append(dotVec(query, sent) / (lenVector(query) * lenVector(sent)))\n",
    "    return sorted(zip(range(len(rang)), rang), key=itemgetter(1), reverse=True)"
   ]
  },
  {
   "cell_type": "code",
   "execution_count": 214,
   "metadata": {
    "collapsed": true
   },
   "outputs": [],
   "source": [
    "def getTopVec(num_query, ranging='vecRanging', N=7):\n",
    "    if ranging == 'vecRanging':\n",
    "        serp = vecRanging(vectors_query[num_query], vectors_sent)[:N]\n",
    "    else:\n",
    "        serp = tf_idfRanging(vectors_query[num_query], vectors_sent_norm)[:N]\n",
    "    print u\"Запрос: \" + queries[num_query]\n",
    "    print u\"Топ выдачи:\"\n",
    "    for result in serp:\n",
    "        print \"\\t\" + all_real_sentenses[result[0]] + \"\\t\" + str(result[1])\n",
    "        print \"\\n\""
   ]
  },
  {
   "cell_type": "code",
   "execution_count": 218,
   "metadata": {
    "collapsed": false
   },
   "outputs": [
    {
     "name": "stdout",
     "output_type": "stream",
     "text": [
      "Запрос: Французский художник добился успеха со смеющейся коровой (на илл.) и провалился с пьющими ослами.\n",
      "Топ выдачи:\n",
      "\tВ середине 1920-х годов на французском рынке сырной продукции появилось множество имитаций «Смеющейся коровы» и разнообразных вариаций на тему этикетки Рабье — «Улыбающаяся корова» (фр. «La vache qui sourit»), «Говорящая корова» (фр. «La vache qui parle»), «Читающая корова» (фр. «La vache qui lit»), «Учёная корова» (фр. «La vache savante»), «Брыкающаяся корова» (фр. «La vache qui rue») и др., в ассортименте были представлены также «Смеющаяся обезьяна» (фр. «Le Singe qui rit»), «Смеющаяся коза» (фр. «La chèvre qui rit»), «Смеющийся кот» (фр. «Le chat qui rit») и др.[15][14]\t0.288874152291\n",
      "\n",
      "\n",
      "\t<…> C собакой ещё проходит, но заставить смеяться корову!\t0.258198889747\n",
      "\n",
      "\n",
      "\tВесёлая бурёнка (фр. La vache qui rit, с фр. — «Смеющаяся корова») — французский плавленый сыр, производимый группой компаний Bel Group.\t0.237170824513\n",
      "\n",
      "\n",
      "\tРисунок смеющейся коровы был сделан по мотивам виденной им на грузовиках для перевозки мяса в годы Первой мировой войны эмблемы «La Wachkyrie», выполненной художником Бенжаменом Рабье (название обыгрывает слова «валькирия» и «vache qui rit»).\t0.212132034356\n",
      "\n",
      "\n",
      "\tНаиболее известными работами, по оценке критиков, стали эмблема «Смеющаяся корова» и серия приключений Гедеона.\t0.190692517849\n",
      "\n",
      "\n",
      "\tЭмблема в коричневых тонах, представляющая голову смеющейся коровы, получила название «la Wachkyrie»[К 4], являющееся аллюзийной насмешкой над воспетыми в операх Рихарда Вагнера божествами германской мифологии, направленной на поднятие боевого духа во французской армии[1][8].\t0.18973665961\n",
      "\n",
      "\n",
      "\tХудожник никогда не рисовал с натуры[8].\t0.182574185835\n",
      "\n",
      "\n",
      "____________________________________\n",
      "\n",
      "Запрос: С собакой викингов ходят на лося.\n",
      "Топ выдачи:\n",
      "\tохотничья собака\t0.353553390593\n",
      "\n",
      "\n",
      "\tНазвание происходит от elg (с норв. — «лось») и hund (с норв. — «собака»).\t0.353553390593\n",
      "\n",
      "\n",
      "\tСеверные охотничьи собаки\t0.288675134595\n",
      "\n",
      "\n",
      "\tИспользуется для охоты на лося[3] и других копытных[2].\t0.25\n",
      "\n",
      "\n",
      "\tУпоминания об этой «собаке викингов» в сагах и найденные рядом с останками хозяина и его оружия останки псов красноречиво говорят об уважении к этим животным[1][2].\t0.242535625036\n",
      "\n",
      "\n",
      "\t<…> C собакой ещё проходит, но заставить смеяться корову!\t0.204124145232\n",
      "\n",
      "\n",
      "\tТакже используется в качестве ездовой, пастушьей[7] и сторожевой собаки[8].\t0.204124145232\n",
      "\n",
      "\n",
      "____________________________________\n",
      "\n",
      "Запрос: Герои мультфильма стали индикаторами невесомости космического корабля «Арго».\n",
      "Топ выдачи:\n",
      "\t20 апреля 2017 года игрушечные персонажи мультфильма стали индикаторами невесомости на российском пилотируемом космическом корабле Союз МС — 04 «Арго» (автор игрушек-индикаторов — И. К. Найденова, кукольник — Н. А. Охливанкина).\t0.603022689156\n",
      "\n",
      "\n",
      "\t20 апреля 2017 года игрушечные Юра и Нюра стали индикаторами невесомости на российском пилотируемом космическом корабле «Союз МС-04» «Арго» (автор игрушек-индикаторов — И. К. Найденова, кукольник — Н. А. Охливанкина).\t0.527644853011\n",
      "\n",
      "\n",
      "\tДругими индикаторами невесомости стали фигурки персонажей мультфильма телестудии Роскосмоса «Космические Юра и Нюра»[28], которые после полёта космонавт планирует передать в детский онкологический центр[29].\t0.416666666667\n",
      "\n",
      "\n",
      "\tПри переходе из условий земной гравитации к условиям невесомости (в первую очередь — при выходе космического корабля на орбиту), у большинства космонавтов наблюдается реакция организма, называемая синдромом космической адаптации.\t0.288675134595\n",
      "\n",
      "\n",
      "\tКак сказал командир корабля Фёдор Юрчихин, это имя дано было потому, что космонавты и астронавты считают себя путешественниками, как аргонавты, которые путешествовали на корабле с именем «Арго»[25].\t0.265165042945\n",
      "\n",
      "\n",
      "\tТалисманом и индикатором невесомости экипажа стал плюшевый щенок, о котором космонавт Фёдор Юрчихин говорит: «Он никогда меня не покидал и готовится к своему уже пятому полету.\t0.265165042945\n",
      "\n",
      "\n",
      "\tТранспортный пилотируемый корабль «Союз МС-04» получил собственное имя — «Арго»[24].\t0.25\n",
      "\n",
      "\n",
      "____________________________________\n",
      "\n"
     ]
    }
   ],
   "source": [
    "for i in [0,1,2]:\n",
    "    getTopVec(i, ranging='vecRanging')\n",
    "    print '____________________________________'\n",
    "    print"
   ]
  },
  {
   "cell_type": "markdown",
   "metadata": {},
   "source": [
    "### TF-IDF ранжирование"
   ]
  },
  {
   "cell_type": "code",
   "execution_count": 202,
   "metadata": {
    "collapsed": true
   },
   "outputs": [],
   "source": [
    "def tf_idfRanging(query, sentenses):\n",
    "    rang = []\n",
    "    for sent in sentenses:\n",
    "        tf_idf = 0\n",
    "        for word in query.keys():\n",
    "            if word in sent.keys() and word in idf.keys():\n",
    "                tf_idf += np.log(sent[word] + 1) * idf[word]\n",
    "        rang.append(tf_idf)\n",
    "            \n",
    "    return sorted(zip(range(len(rang)), rang), key=itemgetter(1), reverse=True)"
   ]
  },
  {
   "cell_type": "code",
   "execution_count": 220,
   "metadata": {
    "collapsed": false
   },
   "outputs": [
    {
     "name": "stdout",
     "output_type": "stream",
     "text": [
      "Запрос: Французский художник добился успеха со смеющейся коровой (на илл.) и провалился с пьющими ослами.\n",
      "Топ выдачи:\n",
      "\tВ середине 1920-х годов на французском рынке сырной продукции появилось множество имитаций «Смеющейся коровы» и разнообразных вариаций на тему этикетки Рабье — «Улыбающаяся корова» (фр. «La vache qui sourit»), «Говорящая корова» (фр. «La vache qui parle»), «Читающая корова» (фр. «La vache qui lit»), «Учёная корова» (фр. «La vache savante»), «Брыкающаяся корова» (фр. «La vache qui rue») и др., в ассортименте были представлены также «Смеющаяся обезьяна» (фр. «Le Singe qui rit»), «Смеющаяся коза» (фр. «La chèvre qui rit»), «Смеющийся кот» (фр. «Le chat qui rit») и др.[15][14]\t3.91400857028\n",
      "\n",
      "\n",
      "\t<…> C собакой ещё проходит, но заставить смеяться корову!\t3.48565662094\n",
      "\n",
      "\n",
      "\tВесёлая бурёнка (фр. La vache qui rit, с фр. — «Смеющаяся корова») — французский плавленый сыр, производимый группой компаний Bel Group.\t3.47039507297\n",
      "\n",
      "\n",
      "\tРисунок смеющейся коровы был сделан по мотивам виденной им на грузовиках для перевозки мяса в годы Первой мировой войны эмблемы «La Wachkyrie», выполненной художником Бенжаменом Рабье (название обыгрывает слова «валькирия» и «vache qui rit»).\t2.90855759393\n",
      "\n",
      "\n",
      "\tЭмблема в коричневых тонах, представляющая голову смеющейся коровы, получила название «la Wachkyrie»[К 4], являющееся аллюзийной насмешкой над воспетыми в операх Рихарда Вагнера божествами германской мифологии, направленной на поднятие боевого духа во французской армии[1][8].\t2.83551923713\n",
      "\n",
      "\n",
      "\tНаиболее известными работами, по оценке критиков, стали эмблема «Смеющаяся корова» и серия приключений Гедеона.\t2.68313385284\n",
      "\n",
      "\n",
      "\tПо заказу владельцев винокуренного предприятия под Парижем, задумавших выпуск «американского аперитива» — ликёра из овса под названием «Пикотин»[К 7], Рабье выполнил рекламный плакат, изображающий двух ослов, пьющих ликёр.\t2.51631950803\n",
      "\n",
      "\n",
      "____________________________________\n",
      "\n",
      "Запрос: С собакой викингов ходят на лося.\n",
      "Топ выдачи:\n",
      "\tНазвание происходит от elg (с норв. — «лось») и hund (с норв. — «собака»).\t3.52443974628\n",
      "\n",
      "\n",
      "\tИспользуется для охоты на лося[3] и других копытных[2].\t2.73970032169\n",
      "\n",
      "\n",
      "\tУпоминания об этой «собаке викингов» в сагах и найденные рядом с останками хозяина и его оружия останки псов красноречиво говорят об уважении к этим животным[1][2].\t2.6786420032\n",
      "\n",
      "\n",
      "\tохотничья собака\t2.61256762163\n",
      "\n",
      "\n",
      "\tСеверные охотничьи собаки\t2.22638048049\n",
      "\n",
      "\n",
      "\t<…> C собакой ещё проходит, но заставить смеяться корову!\t1.67240764474\n",
      "\n",
      "\n",
      "\tТакже используется в качестве ездовой, пастушьей[7] и сторожевой собаки[8].\t1.67240764474\n",
      "\n",
      "\n",
      "____________________________________\n",
      "\n",
      "Запрос: Герои мультфильма стали индикаторами невесомости космического корабля «Арго».\n",
      "Топ выдачи:\n",
      "\t20 апреля 2017 года игрушечные персонажи мультфильма стали индикаторами невесомости на российском пилотируемом космическом корабле Союз МС — 04 «Арго» (автор игрушек-индикаторов — И. К. Найденова, кукольник — Н. А. Охливанкина).\t7.90420843717\n",
      "\n",
      "\n",
      "\t20 апреля 2017 года игрушечные Юра и Нюра стали индикаторами невесомости на российском пилотируемом космическом корабле «Союз МС-04» «Арго» (автор игрушек-индикаторов — И. К. Найденова, кукольник — Н. А. Охливанкина).\t6.77543383929\n",
      "\n",
      "\n",
      "\tДругими индикаторами невесомости стали фигурки персонажей мультфильма телестудии Роскосмоса «Космические Юра и Нюра»[28], которые после полёта космонавт планирует передать в детский онкологический центр[29].\t5.44919129934\n",
      "\n",
      "\n",
      "\tТалисманом и индикатором невесомости экипажа стал плюшевый щенок, о котором космонавт Фёдор Юрчихин говорит: «Он никогда меня не покидал и готовится к своему уже пятому полету.\t3.46940111341\n",
      "\n",
      "\n",
      "\tПри переходе из условий земной гравитации к условиям невесомости (в первую очередь — при выходе космического корабля на орбиту), у большинства космонавтов наблюдается реакция организма, называемая синдромом космической адаптации.\t3.15910152532\n",
      "\n",
      "\n",
      "\tТранспортный пилотируемый корабль «Союз МС-04» получил собственное имя — «Арго»[24].\t3.04908275012\n",
      "\n",
      "\n",
      "\tКак сказал командир корабля Фёдор Юрчихин, это имя дано было потому, что космонавты и астронавты считают себя путешественниками, как аргонавты, которые путешествовали на корабле с именем «Арго»[25].\t3.01890700525\n",
      "\n",
      "\n",
      "____________________________________\n",
      "\n"
     ]
    }
   ],
   "source": [
    "for i in [0,1,2]:\n",
    "    getTopVec(i, ranging='tf_idf')\n",
    "    print '____________________________________'\n",
    "    print"
   ]
  },
  {
   "cell_type": "code",
   "execution_count": null,
   "metadata": {
    "collapsed": true
   },
   "outputs": [],
   "source": []
  }
 ],
 "metadata": {
  "kernelspec": {
   "display_name": "Python 2",
   "language": "python",
   "name": "python2"
  },
  "language_info": {
   "codemirror_mode": {
    "name": "ipython",
    "version": 2
   },
   "file_extension": ".py",
   "mimetype": "text/x-python",
   "name": "python",
   "nbconvert_exporter": "python",
   "pygments_lexer": "ipython2",
   "version": "2.7.13"
  }
 },
 "nbformat": 4,
 "nbformat_minor": 2
}
