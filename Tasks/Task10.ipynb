{
 "cells": [
  {
   "cell_type": "code",
   "execution_count": 1,
   "metadata": {
    "collapsed": true
   },
   "outputs": [],
   "source": [
    "exp = '\"Русгидро\", \"Росгеология\", \"Транснефть\" получат предложения перенести свои главные офисы на Дальний Восток'\n",
    "\n",
    "auto1 = 'Компаниям «Русгидро», «Транснефть» и «Росгеология» предложили подумать о переезде на Дальний Восток'\n",
    "auto2 = 'По словам вице-премьера по Дальнему Востоку переезд может как-то затронуть \"РусГидро\", \"Транснефть\" и \"Росгеологию\"'"
   ]
  },
  {
   "cell_type": "markdown",
   "metadata": {},
   "source": [
    "auto1 пересекается с exp в 6 словах из 12\n",
    "<p>\n",
    "auto2 пересекается с exp в 5 словах из 12"
   ]
  },
  {
   "cell_type": "code",
   "execution_count": 2,
   "metadata": {
    "collapsed": false
   },
   "outputs": [
    {
     "data": {
      "text/plain": [
       "True"
      ]
     },
     "execution_count": 2,
     "metadata": {},
     "output_type": "execute_result"
    }
   ],
   "source": [
    "6.0 / 12 > 5.0 / 12"
   ]
  },
  {
   "cell_type": "markdown",
   "metadata": {},
   "source": [
    "Вывод: Первая атоматическая аннотация лучше"
   ]
  }
 ],
 "metadata": {
  "kernelspec": {
   "display_name": "Python 2",
   "language": "python",
   "name": "python2"
  },
  "language_info": {
   "codemirror_mode": {
    "name": "ipython",
    "version": 2
   },
   "file_extension": ".py",
   "mimetype": "text/x-python",
   "name": "python",
   "nbconvert_exporter": "python",
   "pygments_lexer": "ipython2",
   "version": "2.7.13"
  }
 },
 "nbformat": 4,
 "nbformat_minor": 2
}
