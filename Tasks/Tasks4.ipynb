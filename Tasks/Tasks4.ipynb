{
 "cells": [
  {
   "cell_type": "code",
   "execution_count": 12,
   "metadata": {
    "collapsed": true
   },
   "outputs": [],
   "source": [
    "import numpy as np\n",
    "from collections import OrderedDict"
   ]
  },
  {
   "cell_type": "markdown",
   "metadata": {},
   "source": [
    "### Дано"
   ]
  },
  {
   "cell_type": "code",
   "execution_count": 37,
   "metadata": {
    "collapsed": false
   },
   "outputs": [],
   "source": [
    "df = OrderedDict([('отбор', 7000),\n",
    "                  ('кандидат', 70000),\n",
    "                  ('претендент', 30000),\n",
    "                  ('отобрать', 50000),\n",
    "                  ('выбрать', 70000)\n",
    "                 ])\n",
    "tf = np.log(1 + 1)\n",
    "cntDocs = 1000000\n",
    "\n",
    "alpha = 0.7\n",
    "beta = 0.3\n",
    "\n",
    "query = {'отбор' : 1,\n",
    "         'кандидат' : 1\n",
    "        }\n",
    "docs = [['кандидат','отобрать','претендент'],\n",
    "        ['отбор','выбрать','претендент']\n",
    "       ]"
   ]
  },
  {
   "cell_type": "markdown",
   "metadata": {},
   "source": [
    "### Вспомогательные функции "
   ]
  },
  {
   "cell_type": "code",
   "execution_count": 38,
   "metadata": {
    "collapsed": true
   },
   "outputs": [],
   "source": [
    "def lenVector(vec):\n",
    "    return np.linalg.norm(vec.values())"
   ]
  },
  {
   "cell_type": "code",
   "execution_count": 39,
   "metadata": {
    "collapsed": true
   },
   "outputs": [],
   "source": [
    "def normolizeVec(vec):\n",
    "    lenVec = lenVector(vec)\n",
    "    if lenVec == 0:\n",
    "        return 0\n",
    "    return dict(zip(vec.keys(), vec.values() / lenVec))"
   ]
  },
  {
   "cell_type": "code",
   "execution_count": 40,
   "metadata": {
    "collapsed": true
   },
   "outputs": [],
   "source": [
    "def dictToVec(doc):\n",
    "    vec = []\n",
    "    for word in df.keys():\n",
    "        vec.append(doc.setdefault(word, 0))\n",
    "    return np.array(vec)"
   ]
  },
  {
   "cell_type": "markdown",
   "metadata": {},
   "source": [
    "### tf-idf"
   ]
  },
  {
   "cell_type": "code",
   "execution_count": 41,
   "metadata": {
    "collapsed": true
   },
   "outputs": [],
   "source": [
    "def idf(word):\n",
    "    return np.log(float(cntDocs) / df[word])"
   ]
  },
  {
   "cell_type": "code",
   "execution_count": 42,
   "metadata": {
    "collapsed": true
   },
   "outputs": [],
   "source": [
    "def getTF_IDF(doc):\n",
    "    vec = {}\n",
    "    for word in doc:\n",
    "        vec[word]= tf * idf(word)\n",
    "    return normolizeVec(vec)"
   ]
  },
  {
   "cell_type": "code",
   "execution_count": 43,
   "metadata": {
    "collapsed": false
   },
   "outputs": [],
   "source": [
    "docs_vec = []\n",
    "for doc in docs:\n",
    "    docs_vec.append(dictToVec(getTF_IDF(doc)))\n",
    "docs_vec = np.array(docs_vec)"
   ]
  },
  {
   "cell_type": "code",
   "execution_count": 44,
   "metadata": {
    "collapsed": false
   },
   "outputs": [],
   "source": [
    "query_vec = dictToVec(query)"
   ]
  },
  {
   "cell_type": "markdown",
   "metadata": {},
   "source": [
    "### Изменение запроса"
   ]
  },
  {
   "cell_type": "code",
   "execution_count": 45,
   "metadata": {
    "collapsed": false
   },
   "outputs": [
    {
     "name": "stdout",
     "output_type": "stream",
     "text": [
      "[1 1 0 0 0]\n"
     ]
    }
   ],
   "source": [
    "print query_vec"
   ]
  },
  {
   "cell_type": "code",
   "execution_count": 48,
   "metadata": {
    "collapsed": false
   },
   "outputs": [
    {
     "name": "stdout",
     "output_type": "stream",
     "text": [
      "[ 0.81221986  0.77492671  0.17810625  0.08440707  0.06014331]\n"
     ]
    }
   ],
   "source": [
    "new_query = alpha * query_vec + beta * 1.0 / 2 * docs_vec.sum(axis=0)\n",
    "print new_query"
   ]
  },
  {
   "cell_type": "code",
   "execution_count": null,
   "metadata": {
    "collapsed": true
   },
   "outputs": [],
   "source": []
  }
 ],
 "metadata": {
  "kernelspec": {
   "display_name": "Python 2",
   "language": "python",
   "name": "python2"
  },
  "language_info": {
   "codemirror_mode": {
    "name": "ipython",
    "version": 2
   },
   "file_extension": ".py",
   "mimetype": "text/x-python",
   "name": "python",
   "nbconvert_exporter": "python",
   "pygments_lexer": "ipython2",
   "version": "2.7.13"
  }
 },
 "nbformat": 4,
 "nbformat_minor": 2
}
