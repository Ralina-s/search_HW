{
 "cells": [
  {
   "cell_type": "code",
   "execution_count": 1,
   "metadata": {
    "collapsed": true
   },
   "outputs": [],
   "source": [
    "import numpy as np"
   ]
  },
  {
   "cell_type": "code",
   "execution_count": 2,
   "metadata": {
    "collapsed": true
   },
   "outputs": [],
   "source": [
    "d1 = ['a', 'b', 'c', 'd']\n",
    "d2 = ['a', 'a', 'a']\n",
    "d3 = ['b', 'b', 'c']\n",
    "d4 = ['a', 'b', 'b', 'c']\n",
    "\n",
    "q = ['a', 'b']"
   ]
  },
  {
   "cell_type": "code",
   "execution_count": 3,
   "metadata": {
    "collapsed": true
   },
   "outputs": [],
   "source": [
    "def getProb(q, doc):\n",
    "    res = np.zeros(len(q))\n",
    "    for i, q_word in enumerate(q):\n",
    "        for d_word in doc:\n",
    "            if q_word == d_word:\n",
    "                res[i] += 1\n",
    "        res[i] /= len(doc)\n",
    "    return np.array(res)"
   ]
  },
  {
   "cell_type": "code",
   "execution_count": 4,
   "metadata": {
    "collapsed": false
   },
   "outputs": [],
   "source": [
    "def getRanks(q, docs, lamb=0.5):\n",
    "    union_docs = []\n",
    "    for doc in docs:\n",
    "        union_docs.extend(doc)\n",
    "    \n",
    "    union_prob = getProb(q, union_docs)\n",
    "    res = []\n",
    "    for doc in docs:\n",
    "        vecProb = (1 - lamb) * union_prob + lamb * getProb(q, doc)\n",
    "        res.append(np.prod(vecProb))\n",
    "    \n",
    "    return res"
   ]
  },
  {
   "cell_type": "code",
   "execution_count": 5,
   "metadata": {
    "collapsed": false
   },
   "outputs": [
    {
     "data": {
      "text/plain": [
       "[0.092155612244897975,\n",
       " 0.12117346938775511,\n",
       " 0.091411564625850331,\n",
       " 0.13010204081632656]"
      ]
     },
     "execution_count": 5,
     "metadata": {},
     "output_type": "execute_result"
    }
   ],
   "source": [
    "getRanks(q, [d1,d2,d3,d4])"
   ]
  },
  {
   "cell_type": "markdown",
   "metadata": {},
   "source": [
    "Порядок документов: d4, d2, d1, d3 "
   ]
  },
  {
   "cell_type": "code",
   "execution_count": 6,
   "metadata": {
    "collapsed": false
   },
   "outputs": [
    {
     "data": {
      "text/plain": [
       "[0.067971938775510207,\n",
       " 0.033418367346938767,\n",
       " 0.022704081632653056,\n",
       " 0.12663265306122451]"
      ]
     },
     "execution_count": 6,
     "metadata": {},
     "output_type": "execute_result"
    }
   ],
   "source": [
    "getRanks(q, [d1,d2,d3,d4], lamb=0.9)"
   ]
  },
  {
   "cell_type": "markdown",
   "metadata": {},
   "source": [
    "Порядок документов: d4, d1, d2, d3 "
   ]
  },
  {
   "cell_type": "code",
   "execution_count": null,
   "metadata": {
    "collapsed": true
   },
   "outputs": [],
   "source": []
  }
 ],
 "metadata": {
  "kernelspec": {
   "display_name": "Python 2",
   "language": "python",
   "name": "python2"
  },
  "language_info": {
   "codemirror_mode": {
    "name": "ipython",
    "version": 2
   },
   "file_extension": ".py",
   "mimetype": "text/x-python",
   "name": "python",
   "nbconvert_exporter": "python",
   "pygments_lexer": "ipython2",
   "version": "2.7.13"
  }
 },
 "nbformat": 4,
 "nbformat_minor": 2
}
