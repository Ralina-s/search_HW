{
 "cells": [
  {
   "cell_type": "code",
   "execution_count": 4,
   "metadata": {
    "collapsed": true
   },
   "outputs": [],
   "source": [
    "import numpy as np"
   ]
  },
  {
   "cell_type": "code",
   "execution_count": 5,
   "metadata": {
    "collapsed": true
   },
   "outputs": [],
   "source": [
    "d1 = [['x1', 'x2', 'x3'], 'c1']\n",
    "d2 = [['x1', 'x2', 'x4'], 'c1']\n",
    "d3 = [['x4', 'x5', 'x6'], 'c2']\n",
    "\n",
    "d4 = [['x1', 'x4', 'x5']]"
   ]
  },
  {
   "cell_type": "code",
   "execution_count": 14,
   "metadata": {
    "collapsed": false
   },
   "outputs": [],
   "source": [
    "p_c = [2.0 / 3, 1.0 / 3]\n",
    "cnt_x_c = np.array([[2, 2, 1, 1, 0, 0], [0, 0, 0, 1, 1, 1]])\n",
    "p_x_c = np.divide(cnt_x_c.astype(float) + 1, np.array([[6],[3]]) + cnt_x_c)"
   ]
  },
  {
   "cell_type": "code",
   "execution_count": 15,
   "metadata": {
    "collapsed": false
   },
   "outputs": [
    {
     "name": "stdout",
     "output_type": "stream",
     "text": [
      "[[ 0.375       0.375       0.28571429  0.28571429  0.16666667  0.16666667]\n",
      " [ 0.33333333  0.33333333  0.33333333  0.5         0.5         0.5       ]]\n"
     ]
    }
   ],
   "source": [
    "print p_x_c"
   ]
  },
  {
   "cell_type": "code",
   "execution_count": 20,
   "metadata": {
    "collapsed": false
   },
   "outputs": [
    {
     "data": {
      "text/plain": [
       "array([ 0.00529101,  0.04166667])"
      ]
     },
     "execution_count": 20,
     "metadata": {},
     "output_type": "execute_result"
    }
   ],
   "source": [
    "p_x_c_d4 = np.prod(p_x_c[:,3:], axis=1)\n",
    "np.multiply(p_x_c_d4, p_c)"
   ]
  },
  {
   "cell_type": "markdown",
   "metadata": {},
   "source": [
    "Вероятность первого класса: 0.00529101 \n",
    "<p>\n",
    "Вероятность второго класса: 0.04166667"
   ]
  },
  {
   "cell_type": "code",
   "execution_count": null,
   "metadata": {
    "collapsed": true
   },
   "outputs": [],
   "source": []
  }
 ],
 "metadata": {
  "kernelspec": {
   "display_name": "Python 2",
   "language": "python",
   "name": "python2"
  },
  "language_info": {
   "codemirror_mode": {
    "name": "ipython",
    "version": 2
   },
   "file_extension": ".py",
   "mimetype": "text/x-python",
   "name": "python",
   "nbconvert_exporter": "python",
   "pygments_lexer": "ipython2",
   "version": "2.7.13"
  }
 },
 "nbformat": 4,
 "nbformat_minor": 2
}
