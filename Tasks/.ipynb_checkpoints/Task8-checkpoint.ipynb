{
 "cells": [
  {
   "cell_type": "code",
   "execution_count": 77,
   "metadata": {
    "collapsed": true
   },
   "outputs": [],
   "source": [
    "import numpy as np\n",
    "from operator import itemgetter\n",
    "\n",
    "from sklearn.metrics.pairwise import cosine_distances\n",
    "\n",
    "import matplotlib.pyplot as plt"
   ]
  },
  {
   "cell_type": "code",
   "execution_count": 277,
   "metadata": {
    "collapsed": false
   },
   "outputs": [],
   "source": [
    "dots = np.array([[{'vec': [0.6, 1.9], 'name':'a'}],\n",
    "        [{'vec': [1.8, 1.6], 'name':'b'}],\n",
    "        [{'vec': [2.7, 2.0], 'name':'c'}],\n",
    "        [{'vec': [3.0, 2.1], 'name':'d'}],\n",
    "        [{'vec': [3.0, 2.6], 'name':'e'}],\n",
    "        [{'vec': [3.1, 4.5], 'name':'f'}],\n",
    "        [{'vec': [3.8, 0.6], 'name':'g'}],\n",
    "        [{'vec': [4.2, 2.7], 'name':'h'}]])"
   ]
  },
  {
   "cell_type": "markdown",
   "metadata": {},
   "source": [
    "<img src=\"../Images/Task_clast.png\">"
   ]
  },
  {
   "cell_type": "code",
   "execution_count": 274,
   "metadata": {
    "collapsed": false
   },
   "outputs": [],
   "source": [
    "def similar(vec1, vec2):\n",
    "    v1 = np.array(vec1['vec'])\n",
    "    v2 = np.array(vec2['vec'])\n",
    "    return np.sum(v1 * v2) / (np.sqrt(np.sum(v1**2)) * np.sqrt(np.sum(v2**2)))\n",
    "\n",
    "def get_similars(c1, c2):\n",
    "    res = []\n",
    "    for v1 in c1:\n",
    "        for v2 in c2:\n",
    "            res.append([(v1,v2), similar(v1, v2)])\n",
    "            \n",
    "    return res\n",
    "\n",
    "def get_max_similar(c1, c2):\n",
    "    similars = get_similars(c1, c2)\n",
    "    return sorted(similars, key=itemgetter(1), reverse=True)[0][1]\n",
    "\n",
    "def get_min_similar(c1, c2):\n",
    "    similars = get_similars(c1, c2)\n",
    "    return sorted(similars, key=itemgetter(1))[0][1]\n",
    "\n",
    "def get_single_pair(cls):\n",
    "    similars = []\n",
    "    for i in range(len(cls)):\n",
    "        for j in range(i + 1, len(cls)):\n",
    "            winner = [i,j,get_min_similar(cls[i], cls[j])]\n",
    "            similars.append(winner)\n",
    "    \n",
    "    pair = sorted(similars, key=itemgetter(2), reverse=True)[0][:2]\n",
    "    \n",
    "    return pair\n",
    "\n",
    "def get_complete_pair(cls):\n",
    "    similars = []\n",
    "    for i in range(len(cls)):\n",
    "        for j in range(i + 1, len(cls)):\n",
    "            winner = [i,j,get_max_similar(cls[i], cls[j])]\n",
    "            similars.append(winner)\n",
    "    \n",
    "    pair = sorted(similars, key=itemgetter(2), reverse=True)[0][:2]\n",
    "    \n",
    "    return pair\n",
    "\n",
    "def print_merge(dots1, dots2):\n",
    "    line = \"\"\n",
    "    c1 = \"\"\n",
    "    c2 = \"\"\n",
    "    for name in dots1:\n",
    "        c1 += name['name'] + ' '\n",
    "    line += c1\n",
    "    line += \" merge with \"\n",
    "    for name in dots2:\n",
    "        c2 += name['name'] + ' '\n",
    "    print line + c2 + \". New class: \" + c1 + c2\n",
    "    print \n",
    "\n",
    "def merge_cls(dots, c1, c2):\n",
    "    print_merge(dots[c1], dots[c2])\n",
    "    \n",
    "    new_cls = np.append(dots[c1], dots[c2])\n",
    "    res = list(np.delete(dots, [c1, c2], 0))\n",
    "    res.append(new_cls)\n",
    "    \n",
    "    return res\n"
   ]
  },
  {
   "cell_type": "markdown",
   "metadata": {},
   "source": [
    "### Single"
   ]
  },
  {
   "cell_type": "code",
   "execution_count": 275,
   "metadata": {
    "collapsed": false
   },
   "outputs": [
    {
     "name": "stdout",
     "output_type": "stream",
     "text": [
      "b  merge with e . New class: b e \n",
      "\n",
      "c  merge with d . New class: c d \n",
      "\n",
      "h  merge with c d . New class: h c d \n",
      "\n",
      "b e  merge with h c d . New class: b e h c d \n",
      "\n",
      "a  merge with f . New class: a f \n",
      "\n",
      "g  merge with b e h c d . New class: g b e h c d \n",
      "\n",
      "a f  merge with g b e h c d . New class: a f g b e h c d \n",
      "\n"
     ]
    }
   ],
   "source": [
    "while(len(dots) != 1):\n",
    "    winner_pair = get_single_pair(dots)\n",
    "    dots = merge_cls(dots, winner_pair[0], winner_pair[1])"
   ]
  },
  {
   "cell_type": "markdown",
   "metadata": {},
   "source": [
    "<img src=\"../Images/Single_clast.png\">"
   ]
  },
  {
   "cell_type": "markdown",
   "metadata": {},
   "source": [
    "### Complete"
   ]
  },
  {
   "cell_type": "code",
   "execution_count": 278,
   "metadata": {
    "collapsed": false
   },
   "outputs": [
    {
     "name": "stdout",
     "output_type": "stream",
     "text": [
      "b  merge with e . New class: b e \n",
      "\n",
      "c  merge with d . New class: c d \n",
      "\n",
      "h  merge with c d . New class: h c d \n",
      "\n",
      "b e  merge with h c d . New class: b e h c d \n",
      "\n",
      "f  merge with b e h c d . New class: f b e h c d \n",
      "\n",
      "a  merge with f b e h c d . New class: a f b e h c d \n",
      "\n",
      "g  merge with a f b e h c d . New class: g a f b e h c d \n",
      "\n"
     ]
    }
   ],
   "source": [
    "while(len(dots) != 1):\n",
    "    winner_pair = get_complete_pair(dots)\n",
    "    dots = merge_cls(dots, winner_pair[0], winner_pair[1])"
   ]
  },
  {
   "cell_type": "markdown",
   "metadata": {
    "collapsed": true
   },
   "source": [
    "<img src=\"../Images/Complete_clast.png\">"
   ]
  },
  {
   "cell_type": "code",
   "execution_count": null,
   "metadata": {
    "collapsed": true
   },
   "outputs": [],
   "source": []
  }
 ],
 "metadata": {
  "kernelspec": {
   "display_name": "Python 2",
   "language": "python",
   "name": "python2"
  },
  "language_info": {
   "codemirror_mode": {
    "name": "ipython",
    "version": 2
   },
   "file_extension": ".py",
   "mimetype": "text/x-python",
   "name": "python",
   "nbconvert_exporter": "python",
   "pygments_lexer": "ipython2",
   "version": "2.7.13"
  }
 },
 "nbformat": 4,
 "nbformat_minor": 2
}
