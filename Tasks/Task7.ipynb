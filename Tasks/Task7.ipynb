{
 "cells": [
  {
   "cell_type": "markdown",
   "metadata": {},
   "source": [
    "<img src='../Images/PageRank.png'>"
   ]
  },
  {
   "cell_type": "code",
   "execution_count": 25,
   "metadata": {
    "collapsed": false,
    "scrolled": false
   },
   "outputs": [
    {
     "name": "stdout",
     "output_type": "stream",
     "text": [
      "Step 0\n",
      "PR 1: 0.1,   PR 2: 0.55,   PR3: 0.55\n",
      "\n",
      "Step 5\n",
      "PR 1: 0.1,   PR 2: 0.918559,   PR3: 0.918559\n",
      "\n",
      "Step 10\n",
      "PR 1: 0.1,   PR 2: 1.13618940391,   PR3: 1.13618940391\n",
      "\n",
      "Step 15\n",
      "PR 1: 0.1,   PR 2: 1.26469798111,   PR3: 1.26469798111\n",
      "\n",
      "Step 20\n",
      "PR 1: 0.1,   PR 2: 1.34058101087,   PR3: 1.34058101087\n",
      "\n",
      "Step 25\n",
      "PR 1: 0.1,   PR 2: 1.38538918111,   PR3: 1.38538918111\n",
      "\n",
      "Step 30\n",
      "PR 1: 0.1,   PR 2: 1.41184795755,   PR3: 1.41184795755\n",
      "\n",
      "Step 35\n",
      "PR 1: 0.1,   PR 2: 1.42747160046,   PR3: 1.42747160046\n",
      "\n",
      "Step 40\n",
      "PR 1: 0.1,   PR 2: 1.43669720535,   PR3: 1.43669720535\n",
      "\n",
      "Step 45\n",
      "PR 1: 0.1,   PR 2: 1.44214483279,   PR3: 1.44214483279\n",
      "\n",
      "Step 50\n",
      "PR 1: 0.1,   PR 2: 1.44536160231,   PR3: 1.44536160231\n",
      "\n",
      "Step 55\n",
      "PR 1: 0.1,   PR 2: 1.44726107255,   PR3: 1.44726107255\n",
      "\n",
      "Step 60\n",
      "PR 1: 0.1,   PR 2: 1.44838269073,   PR3: 1.44838269073\n",
      "\n",
      "Step 65\n",
      "PR 1: 0.1,   PR 2: 1.44904499505,   PR3: 1.44904499505\n",
      "\n"
     ]
    }
   ],
   "source": [
    "pr1 = pr2 = pr3 = 1.0 / 3\n",
    "d = 0.1\n",
    "step = 70\n",
    "for i in range(step):\n",
    "    pr1_new = d\n",
    "    pr2_new = (1 - d) * (pr1 / 2 + pr3) + d \n",
    "    pr3_new = (1 - d) * (pr1 / 2 + pr2) + d \n",
    "    \n",
    "    if i % 5 == 0:\n",
    "        print \"Step {}\\nPR 1: {},   PR 2: {},   PR3: {}\\n\".format(i, pr1_new, pr2_new, pr3_new)\n",
    "    \n",
    "    pr1 = pr1_new\n",
    "    pr2 = pr2_new\n",
    "    pr3 = pr3_new"
   ]
  },
  {
   "cell_type": "markdown",
   "metadata": {
    "collapsed": true
   },
   "source": [
    "PR1 = 0.1\n",
    "<p>PR2 и PR3 сходятся к 1.45"
   ]
  },
  {
   "cell_type": "code",
   "execution_count": null,
   "metadata": {
    "collapsed": true
   },
   "outputs": [],
   "source": []
  }
 ],
 "metadata": {
  "kernelspec": {
   "display_name": "Python 2",
   "language": "python",
   "name": "python2"
  },
  "language_info": {
   "codemirror_mode": {
    "name": "ipython",
    "version": 2
   },
   "file_extension": ".py",
   "mimetype": "text/x-python",
   "name": "python",
   "nbconvert_exporter": "python",
   "pygments_lexer": "ipython2",
   "version": "2.7.13"
  }
 },
 "nbformat": 4,
 "nbformat_minor": 2
}
