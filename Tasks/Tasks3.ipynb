{
 "cells": [
  {
   "cell_type": "code",
   "execution_count": 1,
   "metadata": {
    "collapsed": true
   },
   "outputs": [],
   "source": [
    "import numpy as np"
   ]
  },
  {
   "cell_type": "markdown",
   "metadata": {},
   "source": [
    "### Avarage precision "
   ]
  },
  {
   "cell_type": "code",
   "execution_count": 2,
   "metadata": {
    "collapsed": false
   },
   "outputs": [
    {
     "name": "stdout",
     "output_type": "stream",
     "text": [
      "0.136904761905\n"
     ]
    }
   ],
   "source": [
    "docs = 'RNRNNRRNNNN'\n",
    "ALL_RELEVANTS = 20\n",
    "cnt_relevants = 0\n",
    "ap = 0\n",
    "for i, doc in enumerate(docs):\n",
    "    if doc == 'R':\n",
    "        cnt_relevants += 1\n",
    "        ap += float(cnt_relevants) / (i + 1)\n",
    "ap /= ALL_RELEVANTS\n",
    "print ap"
   ]
  },
  {
   "cell_type": "markdown",
   "metadata": {},
   "source": [
    "### NDCG"
   ]
  },
  {
   "cell_type": "code",
   "execution_count": 3,
   "metadata": {
    "collapsed": true
   },
   "outputs": [],
   "source": [
    "def NDCG(ranks):\n",
    "    # упорядочивание по релевантрности\n",
    "    best_sort = sorted(ranks, reverse=True)\n",
    "    dcg = DCG(ranks)\n",
    "    idcg = DCG(best_sort)\n",
    "    ndcg = dcg / idcg\n",
    "    return ndcg"
   ]
  },
  {
   "cell_type": "code",
   "execution_count": 4,
   "metadata": {
    "collapsed": true
   },
   "outputs": [],
   "source": [
    "def DCG(ranks):\n",
    "    dcg = 0\n",
    "    for pos, rank in enumerate(ranks):\n",
    "        dcg += rank / np.log2(pos + 2) \n",
    "    return dcg"
   ]
  },
  {
   "cell_type": "code",
   "execution_count": 5,
   "metadata": {
    "collapsed": false
   },
   "outputs": [
    {
     "name": "stdout",
     "output_type": "stream",
     "text": [
      "0.978534134899\n",
      "0.900138637521\n"
     ]
    }
   ],
   "source": [
    "sys1 = [4,2,3,1,2]\n",
    "sys2 = [3,2,4,4,4]\n",
    "\n",
    "print NDCG(sys1)\n",
    "print NDCG(sys2)"
   ]
  },
  {
   "cell_type": "code",
   "execution_count": null,
   "metadata": {
    "collapsed": true
   },
   "outputs": [],
   "source": []
  }
 ],
 "metadata": {
  "kernelspec": {
   "display_name": "Python 2",
   "language": "python",
   "name": "python2"
  },
  "language_info": {
   "codemirror_mode": {
    "name": "ipython",
    "version": 2
   },
   "file_extension": ".py",
   "mimetype": "text/x-python",
   "name": "python",
   "nbconvert_exporter": "python",
   "pygments_lexer": "ipython2",
   "version": "2.7.13"
  }
 },
 "nbformat": 4,
 "nbformat_minor": 2
}
