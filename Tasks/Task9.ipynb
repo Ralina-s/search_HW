{
 "cells": [
  {
   "cell_type": "code",
   "execution_count": 3,
   "metadata": {
    "collapsed": true
   },
   "outputs": [],
   "source": [
    "x = \"hodtel\"\n",
    "w1 = \"hotel\"\n",
    "w2 = \"hostel\"\n",
    "\n",
    "ins_od = 9\n",
    "P_o = 1.2 # 1.2x\n",
    "\n",
    "sub_ds = 7\n",
    "P_s = 1 # x\n",
    "\n",
    "P_w1 = 5  # 5y\n",
    "P_w2 = 1  # y\n",
    "\n",
    "cnt_liter = 26"
   ]
  },
  {
   "cell_type": "code",
   "execution_count": 6,
   "metadata": {
    "collapsed": false
   },
   "outputs": [],
   "source": [
    "P_x_w1 = ins_od / P_o\n",
    "P_x_w1_smo = float(ins_od + 1) / (P_o + cnt_liter)\n",
    "\n",
    "P_x_w2 = sub_ds / P_s\n",
    "P_x_w2_smo = float(sub_ds + 1) / (P_s + cnt_liter)"
   ]
  },
  {
   "cell_type": "code",
   "execution_count": 7,
   "metadata": {
    "collapsed": false
   },
   "outputs": [
    {
     "name": "stdout",
     "output_type": "stream",
     "text": [
      "Without smoothing: 1.07142857143\n",
      "With smoothing: 1.24080882353\n"
     ]
    }
   ],
   "source": [
    "print \"Without smoothing: \" + str(P_x_w1 / P_x_w2)\n",
    "print \"With smoothing: \" + str(P_x_w1_smo / P_x_w2_smo)"
   ]
  },
  {
   "cell_type": "markdown",
   "metadata": {},
   "source": [
    "Вывод: вероятнее слово 1"
   ]
  }
 ],
 "metadata": {
  "kernelspec": {
   "display_name": "Python 2",
   "language": "python",
   "name": "python2"
  },
  "language_info": {
   "codemirror_mode": {
    "name": "ipython",
    "version": 2
   },
   "file_extension": ".py",
   "mimetype": "text/x-python",
   "name": "python",
   "nbconvert_exporter": "python",
   "pygments_lexer": "ipython2",
   "version": "2.7.13"
  }
 },
 "nbformat": 4,
 "nbformat_minor": 2
}
