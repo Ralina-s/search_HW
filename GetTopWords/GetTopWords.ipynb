{
 "cells": [
  {
   "cell_type": "code",
   "execution_count": 1,
   "metadata": {
    "collapsed": false
   },
   "outputs": [],
   "source": [
    "import pymorphy2\n",
    "import re\n",
    "from operator import itemgetter\n",
    "from stop_words import get_stop_words"
   ]
  },
  {
   "cell_type": "code",
   "execution_count": 2,
   "metadata": {
    "collapsed": true
   },
   "outputs": [],
   "source": [
    "class NormalAnalyzer:\n",
    "    __stemmer = pymorphy2.MorphAnalyzer()\n",
    "    __cache = {}\n",
    "    \n",
    "    def norm(self, token):\n",
    "        token = token.strip()\n",
    "        \n",
    "        norm = ''\n",
    "        if token not in self.__cache:\n",
    "    \n",
    "            res = self.__stemmer.parse(token)\n",
    "            norm = res[0].normal_form\n",
    "            self.__cache[token] = norm\n",
    "        else :\n",
    "            norm = self.__cache[token]\n",
    "        return norm"
   ]
  },
  {
   "cell_type": "code",
   "execution_count": 3,
   "metadata": {
    "collapsed": true
   },
   "outputs": [],
   "source": [
    "stop_words = get_stop_words('ru')\n",
    "normal_analizer = NormalAnalyzer()"
   ]
  },
  {
   "cell_type": "code",
   "execution_count": 4,
   "metadata": {
    "collapsed": false
   },
   "outputs": [],
   "source": [
    "def get_top_words(path, top_n=10, stop_words_apply=True):\n",
    "    dict_words = {}\n",
    "\n",
    "    with open(path) as file_txt:\n",
    "        pattern_word = re.compile(u'[А-Яа-я]+')\n",
    "        for line in file_txt:\n",
    "            line = line.decode('cp1251')\n",
    "            words = pattern_word.findall(line)\n",
    "\n",
    "            for word in words:\n",
    "                word = word.lower()\n",
    "                norm_word = normal_analizer.norm(word)\n",
    "                if stop_words_apply and norm_word in stop_words:\n",
    "                    continue\n",
    "                dict_words[norm_word] = dict_words.setdefault(norm_word, 0) + 1\n",
    "                \n",
    "    top_words = sorted(dict_words.items(), key=itemgetter(1), reverse=True)\n",
    "    \n",
    "    return top_words[:top_n]"
   ]
  },
  {
   "cell_type": "code",
   "execution_count": 5,
   "metadata": {
    "collapsed": true
   },
   "outputs": [],
   "source": [
    "path_tails = \"data/tails.txt\""
   ]
  },
  {
   "cell_type": "code",
   "execution_count": 6,
   "metadata": {
    "collapsed": false
   },
   "outputs": [
    {
     "name": "stdout",
     "output_type": "stream",
     "text": [
      "Все слова:\n",
      "\n",
      "и 11658\n",
      "он 6213\n",
      "в 5698\n",
      "она 4325\n",
      "не 4190\n",
      "на 4052\n",
      "я 3846\n",
      "что 3132\n",
      "с 2727\n",
      "быть 2704\n",
      "а 2652\n",
      "ты 2599\n",
      "они 2054\n",
      "весь 2035\n",
      "как 1829\n",
      "к 1757\n",
      "свой 1663\n",
      "сказать 1502\n",
      "это 1475\n",
      "но 1436\n",
      "у 1343\n",
      "за 1256\n",
      "из 1152\n",
      "то 1070\n",
      "по 1015\n",
      "тот 970\n",
      "так 930\n",
      "же 873\n",
      "стать 864\n",
      "один 859\n"
     ]
    }
   ],
   "source": [
    "print \"Все слова:\"\n",
    "print\n",
    "\n",
    "for word in get_top_words(path_tails, 30, False):\n",
    "    print word[0], word[1]"
   ]
  },
  {
   "cell_type": "code",
   "execution_count": 7,
   "metadata": {
    "collapsed": false
   },
   "outputs": [
    {
     "name": "stdout",
     "output_type": "stream",
     "text": [
      "Без стоп-слов:\n",
      "\n",
      "свой 1663\n",
      "стать 864\n",
      "король 820\n",
      "увидеть 628\n",
      "говорить 568\n",
      "принцесса 539\n",
      "самый 523\n",
      "большой 500\n",
      "дочь 462\n",
      "рука 456\n",
      "дворец 448\n",
      "отец 447\n",
      "жена 442\n",
      "жить 437\n",
      "принц 432\n",
      "знать 408\n",
      "нея 405\n",
      "идти 403\n",
      "взять 401\n",
      "сын 394\n",
      "девушка 394\n",
      "дом 389\n",
      "видеть 389\n",
      "ответить 386\n",
      "пойти 371\n",
      "спросить 353\n",
      "домой 347\n",
      "вода 323\n",
      "дать 314\n",
      "королева 314\n"
     ]
    }
   ],
   "source": [
    "print \"Без стоп-слов:\"\n",
    "print\n",
    "\n",
    "for word in get_top_words(path_tails, 30, True):\n",
    "    print word[0], word[1]"
   ]
  },
  {
   "cell_type": "code",
   "execution_count": null,
   "metadata": {
    "collapsed": true
   },
   "outputs": [],
   "source": []
  }
 ],
 "metadata": {
  "kernelspec": {
   "display_name": "Python 2",
   "language": "python",
   "name": "python2"
  },
  "language_info": {
   "codemirror_mode": {
    "name": "ipython",
    "version": 2
   },
   "file_extension": ".py",
   "mimetype": "text/x-python",
   "name": "python",
   "nbconvert_exporter": "python",
   "pygments_lexer": "ipython2",
   "version": "2.7.13"
  }
 },
 "nbformat": 4,
 "nbformat_minor": 2
}
